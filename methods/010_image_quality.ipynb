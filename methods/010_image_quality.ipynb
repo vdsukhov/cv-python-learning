{
 "cells": [
  {
   "cell_type": "markdown",
   "id": "5465a753-b249-4157-ad71-f3e0966415d7",
   "metadata": {},
   "source": [
    "# No reference based image quality estimation by quantifying sharpness"
   ]
  },
  {
   "cell_type": "markdown",
   "id": "7cf48cd0-37d0-4cd7-99ee-7514c00336b0",
   "metadata": {},
   "source": [
    "## sharpness as a metric of image quality"
   ]
  },
  {
   "cell_type": "code",
   "execution_count": 2,
   "id": "fbd74f29-f32e-4d2c-a386-92b3a79a9dc2",
   "metadata": {},
   "outputs": [],
   "source": [
    "from dom import DOM\n",
    "from skimage import io\n",
    "\n",
    "import numpy as np"
   ]
  },
  {
   "cell_type": "code",
   "execution_count": 9,
   "id": "ab85b1b2-9d56-4b06-a4ce-b954f3f083da",
   "metadata": {},
   "outputs": [],
   "source": [
    "img1 = io.imread(\"../inpdata/images/Osteosarcoma_01.tif\")\n",
    "img2 = io.imread(\"../inpdata/images/Osteosarcoma_01_1sigma_blur.tif\")\n",
    "img3 = io.imread(\"../inpdata/images/Osteosarcoma_01_2sigma_blur.tif\")"
   ]
  },
  {
   "cell_type": "code",
   "execution_count": 10,
   "id": "836f09ab-0c76-42ec-ad64-5e772492d980",
   "metadata": {},
   "outputs": [],
   "source": [
    "iqa = DOM()"
   ]
  },
  {
   "cell_type": "code",
   "execution_count": 11,
   "id": "d6008357-f11f-4ca9-b097-c532cc6f3c13",
   "metadata": {},
   "outputs": [],
   "source": [
    "score1 = iqa.get_sharpness(img1)\n",
    "score2 = iqa.get_sharpness(img2)\n",
    "score3 = iqa.get_sharpness(img3)"
   ]
  },
  {
   "cell_type": "code",
   "execution_count": 12,
   "id": "dbdc28b1-15f2-42fb-b573-f15a4f8ab28f",
   "metadata": {},
   "outputs": [
    {
     "name": "stdout",
     "output_type": "stream",
     "text": [
      "0.7794661039193378\n",
      "0.8001707427011961\n",
      "0.5260488425352471\n"
     ]
    }
   ],
   "source": [
    "print(score1, score2, score3, sep=\"\\n\")"
   ]
  },
  {
   "cell_type": "code",
   "execution_count": null,
   "id": "3a8b9b09-745f-471b-8d6f-2ab8ac9c05d2",
   "metadata": {},
   "outputs": [],
   "source": []
  }
 ],
 "metadata": {
  "kernelspec": {
   "display_name": "Python 3 (ipykernel)",
   "language": "python",
   "name": "python3"
  },
  "language_info": {
   "codemirror_mode": {
    "name": "ipython",
    "version": 3
   },
   "file_extension": ".py",
   "mimetype": "text/x-python",
   "name": "python",
   "nbconvert_exporter": "python",
   "pygments_lexer": "ipython3",
   "version": "3.9.12"
  }
 },
 "nbformat": 4,
 "nbformat_minor": 5
}
